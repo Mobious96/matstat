{
  "nbformat": 4,
  "nbformat_minor": 0,
  "metadata": {
    "colab": {
      "name": "heart.ipynb",
      "provenance": [],
      "toc_visible": true,
      "include_colab_link": true
    },
    "kernelspec": {
      "name": "python3",
      "display_name": "Python 3"
    }
  },
  "cells": [
    {
      "cell_type": "markdown",
      "metadata": {
        "id": "view-in-github",
        "colab_type": "text"
      },
      "source": [
        "<a href=\"https://colab.research.google.com/github/Mobious96/matstat/blob/master/heart.ipynb\" target=\"_parent\"><img src=\"https://colab.research.google.com/assets/colab-badge.svg\" alt=\"Open In Colab\"/></a>"
      ]
    },
    {
      "cell_type": "markdown",
      "metadata": {
        "id": "qPqyb9D6ztbI",
        "colab_type": "text"
      },
      "source": [
        "# Лабораторная работа №1\n",
        "Heart Disease UCI"
      ]
    },
    {
      "cell_type": "code",
      "metadata": {
        "id": "qyARnmbNz1Jx",
        "colab_type": "code",
        "colab": {}
      },
      "source": [
        "# -*- coding: utf-8 -*-\n",
        "import numpy as np\n",
        "import matplotlib.pyplot as plt\n",
        "import pandas as pd\n",
        "%matplotlib inline"
      ],
      "execution_count": 0,
      "outputs": []
    },
    {
      "cell_type": "code",
      "metadata": {
        "id": "wt6KyR_00UJ3",
        "colab_type": "code",
        "colab": {}
      },
      "source": [
        "data = pd.read_csv('heart.csv', sep = ',')"
      ],
      "execution_count": 0,
      "outputs": []
    },
    {
      "cell_type": "code",
      "metadata": {
        "id": "oVdo_Gho0anp",
        "colab_type": "code",
        "outputId": "6c63bbd5-eadc-46d6-dca2-433efeeeaa58",
        "colab": {
          "base_uri": "https://localhost:8080/",
          "height": 204
        }
      },
      "source": [
        "data.head()"
      ],
      "execution_count": 9,
      "outputs": [
        {
          "output_type": "execute_result",
          "data": {
            "text/html": [
              "<div>\n",
              "<style scoped>\n",
              "    .dataframe tbody tr th:only-of-type {\n",
              "        vertical-align: middle;\n",
              "    }\n",
              "\n",
              "    .dataframe tbody tr th {\n",
              "        vertical-align: top;\n",
              "    }\n",
              "\n",
              "    .dataframe thead th {\n",
              "        text-align: right;\n",
              "    }\n",
              "</style>\n",
              "<table border=\"1\" class=\"dataframe\">\n",
              "  <thead>\n",
              "    <tr style=\"text-align: right;\">\n",
              "      <th></th>\n",
              "      <th>age</th>\n",
              "      <th>sex</th>\n",
              "      <th>cp</th>\n",
              "      <th>trestbps</th>\n",
              "      <th>chol</th>\n",
              "      <th>fbs</th>\n",
              "      <th>restecg</th>\n",
              "      <th>thalach</th>\n",
              "      <th>exang</th>\n",
              "      <th>oldpeak</th>\n",
              "      <th>slope</th>\n",
              "      <th>ca</th>\n",
              "      <th>thal</th>\n",
              "      <th>target</th>\n",
              "    </tr>\n",
              "  </thead>\n",
              "  <tbody>\n",
              "    <tr>\n",
              "      <th>0</th>\n",
              "      <td>63</td>\n",
              "      <td>1</td>\n",
              "      <td>3</td>\n",
              "      <td>145</td>\n",
              "      <td>233</td>\n",
              "      <td>1</td>\n",
              "      <td>0</td>\n",
              "      <td>150</td>\n",
              "      <td>0</td>\n",
              "      <td>2.3</td>\n",
              "      <td>0</td>\n",
              "      <td>0</td>\n",
              "      <td>1</td>\n",
              "      <td>1</td>\n",
              "    </tr>\n",
              "    <tr>\n",
              "      <th>1</th>\n",
              "      <td>37</td>\n",
              "      <td>1</td>\n",
              "      <td>2</td>\n",
              "      <td>130</td>\n",
              "      <td>250</td>\n",
              "      <td>0</td>\n",
              "      <td>1</td>\n",
              "      <td>187</td>\n",
              "      <td>0</td>\n",
              "      <td>3.5</td>\n",
              "      <td>0</td>\n",
              "      <td>0</td>\n",
              "      <td>2</td>\n",
              "      <td>1</td>\n",
              "    </tr>\n",
              "    <tr>\n",
              "      <th>2</th>\n",
              "      <td>41</td>\n",
              "      <td>0</td>\n",
              "      <td>1</td>\n",
              "      <td>130</td>\n",
              "      <td>204</td>\n",
              "      <td>0</td>\n",
              "      <td>0</td>\n",
              "      <td>172</td>\n",
              "      <td>0</td>\n",
              "      <td>1.4</td>\n",
              "      <td>2</td>\n",
              "      <td>0</td>\n",
              "      <td>2</td>\n",
              "      <td>1</td>\n",
              "    </tr>\n",
              "    <tr>\n",
              "      <th>3</th>\n",
              "      <td>56</td>\n",
              "      <td>1</td>\n",
              "      <td>1</td>\n",
              "      <td>120</td>\n",
              "      <td>236</td>\n",
              "      <td>0</td>\n",
              "      <td>1</td>\n",
              "      <td>178</td>\n",
              "      <td>0</td>\n",
              "      <td>0.8</td>\n",
              "      <td>2</td>\n",
              "      <td>0</td>\n",
              "      <td>2</td>\n",
              "      <td>1</td>\n",
              "    </tr>\n",
              "    <tr>\n",
              "      <th>4</th>\n",
              "      <td>57</td>\n",
              "      <td>0</td>\n",
              "      <td>0</td>\n",
              "      <td>120</td>\n",
              "      <td>354</td>\n",
              "      <td>0</td>\n",
              "      <td>1</td>\n",
              "      <td>163</td>\n",
              "      <td>1</td>\n",
              "      <td>0.6</td>\n",
              "      <td>2</td>\n",
              "      <td>0</td>\n",
              "      <td>2</td>\n",
              "      <td>1</td>\n",
              "    </tr>\n",
              "  </tbody>\n",
              "</table>\n",
              "</div>"
            ],
            "text/plain": [
              "   age  sex  cp  trestbps  chol  fbs  ...  exang  oldpeak  slope  ca  thal  target\n",
              "0   63    1   3       145   233    1  ...      0      2.3      0   0     1       1\n",
              "1   37    1   2       130   250    0  ...      0      3.5      0   0     2       1\n",
              "2   41    0   1       130   204    0  ...      0      1.4      2   0     2       1\n",
              "3   56    1   1       120   236    0  ...      0      0.8      2   0     2       1\n",
              "4   57    0   0       120   354    0  ...      1      0.6      2   0     2       1\n",
              "\n",
              "[5 rows x 14 columns]"
            ]
          },
          "metadata": {
            "tags": []
          },
          "execution_count": 9
        }
      ]
    },
    {
      "cell_type": "markdown",
      "metadata": {
        "id": "2lpABXWD0qXw",
        "colab_type": "text"
      },
      "source": [
        "# Описание\n",
        "1. age  \n",
        "2. sex - (0:f, 1:m)\n",
        "3. сp (chest pain type)  \n",
        "Value 1: typical angina  \n",
        "Value 2: atypical angina  \n",
        "Value 3: non-anginal pain  \n",
        "Value 4: asymptomatic  \n",
        "4. trestbps (resting blood pressure (in mm Hg on admission to the hospital))\n",
        "5. serum cholestoral in mg/dl\n",
        "6. fasting blood sugar > 120 mg/dl\n",
        "7. resting electrocardiographic results (values 0,1,2)\n",
        "8. maximum heart rate achieved\n",
        "9. exercise induced angina\n",
        "10. oldpeak = ST depression induced by exercise relative to rest\n",
        "11. the slope of the peak exercise ST segment\n",
        "12. number of major vessels (0-3) colored by flourosopy\n",
        "13. thal (Thalium Stress Test Result)  \n",
        "1 = fixed defect; 2 = normal; 7 = reversable defect\n",
        "14. target  \n",
        "0 -> no heart disease\n",
        "1 -> heart disease  \n",
        "https://www.kaggle.com/ronitf/heart-disease-uci"
      ]
    },
    {
      "cell_type": "code",
      "metadata": {
        "id": "2EUgmnNh1URH",
        "colab_type": "code",
        "outputId": "b87b0c0b-73a0-4bbe-fed9-c303923626dd",
        "colab": {
          "base_uri": "https://localhost:8080/",
          "height": 34
        }
      },
      "source": [
        "data.shape\n",
        "#Размерность данных"
      ],
      "execution_count": 0,
      "outputs": [
        {
          "output_type": "execute_result",
          "data": {
            "text/plain": [
              "(303, 14)"
            ]
          },
          "metadata": {
            "tags": []
          },
          "execution_count": 7
        }
      ]
    },
    {
      "cell_type": "code",
      "metadata": {
        "id": "JvPtvgaS1YqP",
        "colab_type": "code",
        "outputId": "27392aca-6e14-497e-be15-18f30128efa5",
        "colab": {
          "base_uri": "https://localhost:8080/",
          "height": 68
        }
      },
      "source": [
        "data.columns\n",
        "#Названия столбцов"
      ],
      "execution_count": 0,
      "outputs": [
        {
          "output_type": "execute_result",
          "data": {
            "text/plain": [
              "Index(['age', 'sex', 'cp', 'trestbps', 'chol', 'fbs', 'restecg', 'thalach',\n",
              "       'exang', 'oldpeak', 'slope', 'ca', 'thal', 'target'],\n",
              "      dtype='object')"
            ]
          },
          "metadata": {
            "tags": []
          },
          "execution_count": 8
        }
      ]
    },
    {
      "cell_type": "code",
      "metadata": {
        "id": "kLfWigtJ1Z-n",
        "colab_type": "code",
        "outputId": "1c47a7a2-f985-4476-e048-84f5f23778b6",
        "colab": {
          "base_uri": "https://localhost:8080/",
          "height": 340
        }
      },
      "source": [
        "data.info()"
      ],
      "execution_count": 0,
      "outputs": [
        {
          "output_type": "stream",
          "text": [
            "<class 'pandas.core.frame.DataFrame'>\n",
            "RangeIndex: 303 entries, 0 to 302\n",
            "Data columns (total 14 columns):\n",
            "age         303 non-null int64\n",
            "sex         303 non-null int64\n",
            "cp          303 non-null int64\n",
            "trestbps    303 non-null int64\n",
            "chol        303 non-null int64\n",
            "fbs         303 non-null int64\n",
            "restecg     303 non-null int64\n",
            "thalach     303 non-null int64\n",
            "exang       303 non-null int64\n",
            "oldpeak     303 non-null float64\n",
            "slope       303 non-null int64\n",
            "ca          303 non-null int64\n",
            "thal        303 non-null int64\n",
            "target      303 non-null int64\n",
            "dtypes: float64(1), int64(13)\n",
            "memory usage: 33.2 KB\n"
          ],
          "name": "stdout"
        }
      ]
    },
    {
      "cell_type": "code",
      "metadata": {
        "id": "AL4pouwr1ccg",
        "colab_type": "code",
        "outputId": "2d9ce2fc-78bc-4c13-e967-c4eb471320f9",
        "colab": {
          "base_uri": "https://localhost:8080/",
          "height": 899
        }
      },
      "source": [
        "data.hist(bins=50, figsize=(20,15))\n",
        "plt.show()\n",
        "#Просмотр данных"
      ],
      "execution_count": 0,
      "outputs": [
        {
          "output_type": "display_data",
          "data": {
            "image/png": "[encoded data removed]",
            "text/plain": [
              "<Figure size 1440x1080 with 16 Axes>"
            ]
          },
          "metadata": {
            "tags": []
          }
        }
      ]
    },
    {
      "cell_type": "code",
      "metadata": {
        "id": "qcT_lam01e45",
        "colab_type": "code",
        "outputId": "9d68cb36-d29f-450e-b588-29f006d419a9",
        "colab": {
          "base_uri": "https://localhost:8080/",
          "height": 317
        }
      },
      "source": [
        "data.describe()"
      ],
      "execution_count": 0,
      "outputs": [
        {
          "output_type": "execute_result",
          "data": {
            "text/html": [
              "<div>\n",
              "<style scoped>\n",
              "    .dataframe tbody tr th:only-of-type {\n",
              "        vertical-align: middle;\n",
              "    }\n",
              "\n",
              "    .dataframe tbody tr th {\n",
              "        vertical-align: top;\n",
              "    }\n",
              "\n",
              "    .dataframe thead th {\n",
              "        text-align: right;\n",
              "    }\n",
              "</style>\n",
              "<table border=\"1\" class=\"dataframe\">\n",
              "  <thead>\n",
              "    <tr style=\"text-align: right;\">\n",
              "      <th></th>\n",
              "      <th>age</th>\n",
              "      <th>sex</th>\n",
              "      <th>cp</th>\n",
              "      <th>trestbps</th>\n",
              "      <th>chol</th>\n",
              "      <th>fbs</th>\n",
              "      <th>restecg</th>\n",
              "      <th>thalach</th>\n",
              "      <th>exang</th>\n",
              "      <th>oldpeak</th>\n",
              "      <th>slope</th>\n",
              "      <th>ca</th>\n",
              "      <th>thal</th>\n",
              "      <th>target</th>\n",
              "    </tr>\n",
              "  </thead>\n",
              "  <tbody>\n",
              "    <tr>\n",
              "      <th>count</th>\n",
              "      <td>303.000000</td>\n",
              "      <td>303.000000</td>\n",
              "      <td>303.000000</td>\n",
              "      <td>303.000000</td>\n",
              "      <td>303.000000</td>\n",
              "      <td>303.000000</td>\n",
              "      <td>303.000000</td>\n",
              "      <td>303.000000</td>\n",
              "      <td>303.000000</td>\n",
              "      <td>303.000000</td>\n",
              "      <td>303.000000</td>\n",
              "      <td>303.000000</td>\n",
              "      <td>303.000000</td>\n",
              "      <td>303.000000</td>\n",
              "    </tr>\n",
              "    <tr>\n",
              "      <th>mean</th>\n",
              "      <td>54.366337</td>\n",
              "      <td>0.683168</td>\n",
              "      <td>0.966997</td>\n",
              "      <td>131.623762</td>\n",
              "      <td>246.264026</td>\n",
              "      <td>0.148515</td>\n",
              "      <td>0.528053</td>\n",
              "      <td>149.646865</td>\n",
              "      <td>0.326733</td>\n",
              "      <td>1.039604</td>\n",
              "      <td>1.399340</td>\n",
              "      <td>0.729373</td>\n",
              "      <td>2.313531</td>\n",
              "      <td>0.544554</td>\n",
              "    </tr>\n",
              "    <tr>\n",
              "      <th>std</th>\n",
              "      <td>9.082101</td>\n",
              "      <td>0.466011</td>\n",
              "      <td>1.032052</td>\n",
              "      <td>17.538143</td>\n",
              "      <td>51.830751</td>\n",
              "      <td>0.356198</td>\n",
              "      <td>0.525860</td>\n",
              "      <td>22.905161</td>\n",
              "      <td>0.469794</td>\n",
              "      <td>1.161075</td>\n",
              "      <td>0.616226</td>\n",
              "      <td>1.022606</td>\n",
              "      <td>0.612277</td>\n",
              "      <td>0.498835</td>\n",
              "    </tr>\n",
              "    <tr>\n",
              "      <th>min</th>\n",
              "      <td>29.000000</td>\n",
              "      <td>0.000000</td>\n",
              "      <td>0.000000</td>\n",
              "      <td>94.000000</td>\n",
              "      <td>126.000000</td>\n",
              "      <td>0.000000</td>\n",
              "      <td>0.000000</td>\n",
              "      <td>71.000000</td>\n",
              "      <td>0.000000</td>\n",
              "      <td>0.000000</td>\n",
              "      <td>0.000000</td>\n",
              "      <td>0.000000</td>\n",
              "      <td>0.000000</td>\n",
              "      <td>0.000000</td>\n",
              "    </tr>\n",
              "    <tr>\n",
              "      <th>25%</th>\n",
              "      <td>47.500000</td>\n",
              "      <td>0.000000</td>\n",
              "      <td>0.000000</td>\n",
              "      <td>120.000000</td>\n",
              "      <td>211.000000</td>\n",
              "      <td>0.000000</td>\n",
              "      <td>0.000000</td>\n",
              "      <td>133.500000</td>\n",
              "      <td>0.000000</td>\n",
              "      <td>0.000000</td>\n",
              "      <td>1.000000</td>\n",
              "      <td>0.000000</td>\n",
              "      <td>2.000000</td>\n",
              "      <td>0.000000</td>\n",
              "    </tr>\n",
              "    <tr>\n",
              "      <th>50%</th>\n",
              "      <td>55.000000</td>\n",
              "      <td>1.000000</td>\n",
              "      <td>1.000000</td>\n",
              "      <td>130.000000</td>\n",
              "      <td>240.000000</td>\n",
              "      <td>0.000000</td>\n",
              "      <td>1.000000</td>\n",
              "      <td>153.000000</td>\n",
              "      <td>0.000000</td>\n",
              "      <td>0.800000</td>\n",
              "      <td>1.000000</td>\n",
              "      <td>0.000000</td>\n",
              "      <td>2.000000</td>\n",
              "      <td>1.000000</td>\n",
              "    </tr>\n",
              "    <tr>\n",
              "      <th>75%</th>\n",
              "      <td>61.000000</td>\n",
              "      <td>1.000000</td>\n",
              "      <td>2.000000</td>\n",
              "      <td>140.000000</td>\n",
              "      <td>274.500000</td>\n",
              "      <td>0.000000</td>\n",
              "      <td>1.000000</td>\n",
              "      <td>166.000000</td>\n",
              "      <td>1.000000</td>\n",
              "      <td>1.600000</td>\n",
              "      <td>2.000000</td>\n",
              "      <td>1.000000</td>\n",
              "      <td>3.000000</td>\n",
              "      <td>1.000000</td>\n",
              "    </tr>\n",
              "    <tr>\n",
              "      <th>max</th>\n",
              "      <td>77.000000</td>\n",
              "      <td>1.000000</td>\n",
              "      <td>3.000000</td>\n",
              "      <td>200.000000</td>\n",
              "      <td>564.000000</td>\n",
              "      <td>1.000000</td>\n",
              "      <td>2.000000</td>\n",
              "      <td>202.000000</td>\n",
              "      <td>1.000000</td>\n",
              "      <td>6.200000</td>\n",
              "      <td>2.000000</td>\n",
              "      <td>4.000000</td>\n",
              "      <td>3.000000</td>\n",
              "      <td>1.000000</td>\n",
              "    </tr>\n",
              "  </tbody>\n",
              "</table>\n",
              "</div>"
            ],
            "text/plain": [
              "              age         sex          cp  ...          ca        thal      target\n",
              "count  303.000000  303.000000  303.000000  ...  303.000000  303.000000  303.000000\n",
              "mean    54.366337    0.683168    0.966997  ...    0.729373    2.313531    0.544554\n",
              "std      9.082101    0.466011    1.032052  ...    1.022606    0.612277    0.498835\n",
              "min     29.000000    0.000000    0.000000  ...    0.000000    0.000000    0.000000\n",
              "25%     47.500000    0.000000    0.000000  ...    0.000000    2.000000    0.000000\n",
              "50%     55.000000    1.000000    1.000000  ...    0.000000    2.000000    1.000000\n",
              "75%     61.000000    1.000000    2.000000  ...    1.000000    3.000000    1.000000\n",
              "max     77.000000    1.000000    3.000000  ...    4.000000    3.000000    1.000000\n",
              "\n",
              "[8 rows x 14 columns]"
            ]
          },
          "metadata": {
            "tags": []
          },
          "execution_count": 11
        }
      ]
    },
    {
      "cell_type": "code",
      "metadata": {
        "id": "1jUMBjD81gog",
        "colab_type": "code",
        "outputId": "8efc5ec8-a4af-45a2-c224-1ca0598940e6",
        "colab": {
          "base_uri": "https://localhost:8080/",
          "height": 595
        }
      },
      "source": [
        "import seaborn\n",
        "corr_matrix = data.corr()\n",
        "plt.figure(figsize=(15,10))\n",
        "seaborn.heatmap(corr_matrix, annot=True, fmt=\".2f\", cmap=plt.cm.gray)\n",
        "plt.show()\n",
        "#Матрица ковариации"
      ],
      "execution_count": 0,
      "outputs": [
        {
          "output_type": "display_data",
          "data": {
            "image/png": "[encoded data removed]",
            "text/plain": [
              "<Figure size 1080x720 with 2 Axes>"
            ]
          },
          "metadata": {
            "tags": []
          }
        }
      ]
    },
    {
      "cell_type": "code",
      "metadata": {
        "id": "JIGhXc9U1jxX",
        "colab_type": "code",
        "outputId": "f0dc0550-a0fe-4319-81dc-4ef285a0d489",
        "colab": {
          "base_uri": "https://localhost:8080/",
          "height": 295
        }
      },
      "source": [
        "plt.plot(data[data.columns[0]], data['cp'], 'o', alpha = 0.05)\n",
        "plt.xlabel('age')\n",
        "plt.ylabel('chest pain type')\n",
        "plt.title('Age vs Chest pain type')\n",
        "pass"
      ],
      "execution_count": 0,
      "outputs": [
        {
          "output_type": "display_data",
          "data": {
            "image/png": "[encoded data removed]",
            "text/plain": [
              "<Figure size 432x288 with 1 Axes>"
            ]
          },
          "metadata": {
            "tags": []
          }
        }
      ]
    },
    {
      "cell_type": "code",
      "metadata": {
        "id": "9uEGgLJD1mhh",
        "colab_type": "code",
        "outputId": "b97c39bc-47e4-43a2-d869-ac4f917d4e82",
        "colab": {
          "base_uri": "https://localhost:8080/",
          "height": 68
        }
      },
      "source": [
        "data[\"age\"].unique()\n",
        "#age"
      ],
      "execution_count": 0,
      "outputs": [
        {
          "output_type": "execute_result",
          "data": {
            "text/plain": [
              "array([63, 37, 41, 56, 57, 44, 52, 54, 48, 49, 64, 58, 50, 66, 43, 69, 59,\n",
              "       42, 61, 40, 71, 51, 65, 53, 46, 45, 39, 47, 62, 34, 35, 29, 55, 60,\n",
              "       67, 68, 74, 76, 70, 38, 77])"
            ]
          },
          "metadata": {
            "tags": []
          },
          "execution_count": 16
        }
      ]
    },
    {
      "cell_type": "markdown",
      "metadata": {
        "id": "TO-ZJMK91ufY",
        "colab_type": "text"
      },
      "source": [
        "# Готовим данные"
      ]
    },
    {
      "cell_type": "code",
      "metadata": {
        "id": "kM7KwY9H1vxR",
        "colab_type": "code",
        "outputId": "1b694318-729c-41d6-fc06-a6ac87d41e95",
        "colab": {
          "base_uri": "https://localhost:8080/",
          "height": 51
        }
      },
      "source": [
        "categorical_columns = [c for c in data.columns if data[c].dtype.name == 'object']\n",
        "numerical_columns   = [c for c in data.columns if data[c].dtype.name != 'object']\n",
        "print(categorical_columns)\n",
        "print(numerical_columns)"
      ],
      "execution_count": 10,
      "outputs": [
        {
          "output_type": "stream",
          "text": [
            "[]\n",
            "['age', 'sex', 'cp', 'trestbps', 'chol', 'fbs', 'restecg', 'thalach', 'exang', 'oldpeak', 'slope', 'ca', 'thal', 'target']\n"
          ],
          "name": "stdout"
        }
      ]
    },
    {
      "cell_type": "markdown",
      "metadata": {
        "id": "rd6kYC3V1x1o",
        "colab_type": "text"
      },
      "source": [
        "Все данные числовые"
      ]
    },
    {
      "cell_type": "code",
      "metadata": {
        "id": "9PCRCZse1ztg",
        "colab_type": "code",
        "outputId": "bb69e122-eec8-4369-b643-0e95323c3152",
        "colab": {
          "base_uri": "https://localhost:8080/",
          "height": 272
        }
      },
      "source": [
        "data[numerical_columns].count(axis = 0)"
      ],
      "execution_count": 11,
      "outputs": [
        {
          "output_type": "execute_result",
          "data": {
            "text/plain": [
              "age         303\n",
              "sex         303\n",
              "cp          303\n",
              "trestbps    303\n",
              "chol        303\n",
              "fbs         303\n",
              "restecg     303\n",
              "thalach     303\n",
              "exang       303\n",
              "oldpeak     303\n",
              "slope       303\n",
              "ca          303\n",
              "thal        303\n",
              "target      303\n",
              "dtype: int64"
            ]
          },
          "metadata": {
            "tags": []
          },
          "execution_count": 11
        }
      ]
    },
    {
      "cell_type": "markdown",
      "metadata": {
        "id": "KAcznU0b16KZ",
        "colab_type": "text"
      },
      "source": [
        "Пропусков в полях нет"
      ]
    },
    {
      "cell_type": "code",
      "metadata": {
        "id": "HvkU46Zd18Sw",
        "colab_type": "code",
        "outputId": "ce10f16a-df17-4dba-f114-f851dc660219",
        "colab": {
          "base_uri": "https://localhost:8080/",
          "height": 317
        }
      },
      "source": [
        "data_numerical = data[numerical_columns]\n",
        "data_numerical.describe()"
      ],
      "execution_count": 12,
      "outputs": [
        {
          "output_type": "execute_result",
          "data": {
            "text/html": [
              "<div>\n",
              "<style scoped>\n",
              "    .dataframe tbody tr th:only-of-type {\n",
              "        vertical-align: middle;\n",
              "    }\n",
              "\n",
              "    .dataframe tbody tr th {\n",
              "        vertical-align: top;\n",
              "    }\n",
              "\n",
              "    .dataframe thead th {\n",
              "        text-align: right;\n",
              "    }\n",
              "</style>\n",
              "<table border=\"1\" class=\"dataframe\">\n",
              "  <thead>\n",
              "    <tr style=\"text-align: right;\">\n",
              "      <th></th>\n",
              "      <th>age</th>\n",
              "      <th>sex</th>\n",
              "      <th>cp</th>\n",
              "      <th>trestbps</th>\n",
              "      <th>chol</th>\n",
              "      <th>fbs</th>\n",
              "      <th>restecg</th>\n",
              "      <th>thalach</th>\n",
              "      <th>exang</th>\n",
              "      <th>oldpeak</th>\n",
              "      <th>slope</th>\n",
              "      <th>ca</th>\n",
              "      <th>thal</th>\n",
              "      <th>target</th>\n",
              "    </tr>\n",
              "  </thead>\n",
              "  <tbody>\n",
              "    <tr>\n",
              "      <th>count</th>\n",
              "      <td>303.000000</td>\n",
              "      <td>303.000000</td>\n",
              "      <td>303.000000</td>\n",
              "      <td>303.000000</td>\n",
              "      <td>303.000000</td>\n",
              "      <td>303.000000</td>\n",
              "      <td>303.000000</td>\n",
              "      <td>303.000000</td>\n",
              "      <td>303.000000</td>\n",
              "      <td>303.000000</td>\n",
              "      <td>303.000000</td>\n",
              "      <td>303.000000</td>\n",
              "      <td>303.000000</td>\n",
              "      <td>303.000000</td>\n",
              "    </tr>\n",
              "    <tr>\n",
              "      <th>mean</th>\n",
              "      <td>54.366337</td>\n",
              "      <td>0.683168</td>\n",
              "      <td>0.966997</td>\n",
              "      <td>131.623762</td>\n",
              "      <td>246.264026</td>\n",
              "      <td>0.148515</td>\n",
              "      <td>0.528053</td>\n",
              "      <td>149.646865</td>\n",
              "      <td>0.326733</td>\n",
              "      <td>1.039604</td>\n",
              "      <td>1.399340</td>\n",
              "      <td>0.729373</td>\n",
              "      <td>2.313531</td>\n",
              "      <td>0.544554</td>\n",
              "    </tr>\n",
              "    <tr>\n",
              "      <th>std</th>\n",
              "      <td>9.082101</td>\n",
              "      <td>0.466011</td>\n",
              "      <td>1.032052</td>\n",
              "      <td>17.538143</td>\n",
              "      <td>51.830751</td>\n",
              "      <td>0.356198</td>\n",
              "      <td>0.525860</td>\n",
              "      <td>22.905161</td>\n",
              "      <td>0.469794</td>\n",
              "      <td>1.161075</td>\n",
              "      <td>0.616226</td>\n",
              "      <td>1.022606</td>\n",
              "      <td>0.612277</td>\n",
              "      <td>0.498835</td>\n",
              "    </tr>\n",
              "    <tr>\n",
              "      <th>min</th>\n",
              "      <td>29.000000</td>\n",
              "      <td>0.000000</td>\n",
              "      <td>0.000000</td>\n",
              "      <td>94.000000</td>\n",
              "      <td>126.000000</td>\n",
              "      <td>0.000000</td>\n",
              "      <td>0.000000</td>\n",
              "      <td>71.000000</td>\n",
              "      <td>0.000000</td>\n",
              "      <td>0.000000</td>\n",
              "      <td>0.000000</td>\n",
              "      <td>0.000000</td>\n",
              "      <td>0.000000</td>\n",
              "      <td>0.000000</td>\n",
              "    </tr>\n",
              "    <tr>\n",
              "      <th>25%</th>\n",
              "      <td>47.500000</td>\n",
              "      <td>0.000000</td>\n",
              "      <td>0.000000</td>\n",
              "      <td>120.000000</td>\n",
              "      <td>211.000000</td>\n",
              "      <td>0.000000</td>\n",
              "      <td>0.000000</td>\n",
              "      <td>133.500000</td>\n",
              "      <td>0.000000</td>\n",
              "      <td>0.000000</td>\n",
              "      <td>1.000000</td>\n",
              "      <td>0.000000</td>\n",
              "      <td>2.000000</td>\n",
              "      <td>0.000000</td>\n",
              "    </tr>\n",
              "    <tr>\n",
              "      <th>50%</th>\n",
              "      <td>55.000000</td>\n",
              "      <td>1.000000</td>\n",
              "      <td>1.000000</td>\n",
              "      <td>130.000000</td>\n",
              "      <td>240.000000</td>\n",
              "      <td>0.000000</td>\n",
              "      <td>1.000000</td>\n",
              "      <td>153.000000</td>\n",
              "      <td>0.000000</td>\n",
              "      <td>0.800000</td>\n",
              "      <td>1.000000</td>\n",
              "      <td>0.000000</td>\n",
              "      <td>2.000000</td>\n",
              "      <td>1.000000</td>\n",
              "    </tr>\n",
              "    <tr>\n",
              "      <th>75%</th>\n",
              "      <td>61.000000</td>\n",
              "      <td>1.000000</td>\n",
              "      <td>2.000000</td>\n",
              "      <td>140.000000</td>\n",
              "      <td>274.500000</td>\n",
              "      <td>0.000000</td>\n",
              "      <td>1.000000</td>\n",
              "      <td>166.000000</td>\n",
              "      <td>1.000000</td>\n",
              "      <td>1.600000</td>\n",
              "      <td>2.000000</td>\n",
              "      <td>1.000000</td>\n",
              "      <td>3.000000</td>\n",
              "      <td>1.000000</td>\n",
              "    </tr>\n",
              "    <tr>\n",
              "      <th>max</th>\n",
              "      <td>77.000000</td>\n",
              "      <td>1.000000</td>\n",
              "      <td>3.000000</td>\n",
              "      <td>200.000000</td>\n",
              "      <td>564.000000</td>\n",
              "      <td>1.000000</td>\n",
              "      <td>2.000000</td>\n",
              "      <td>202.000000</td>\n",
              "      <td>1.000000</td>\n",
              "      <td>6.200000</td>\n",
              "      <td>2.000000</td>\n",
              "      <td>4.000000</td>\n",
              "      <td>3.000000</td>\n",
              "      <td>1.000000</td>\n",
              "    </tr>\n",
              "  </tbody>\n",
              "</table>\n",
              "</div>"
            ],
            "text/plain": [
              "              age         sex          cp  ...          ca        thal      target\n",
              "count  303.000000  303.000000  303.000000  ...  303.000000  303.000000  303.000000\n",
              "mean    54.366337    0.683168    0.966997  ...    0.729373    2.313531    0.544554\n",
              "std      9.082101    0.466011    1.032052  ...    1.022606    0.612277    0.498835\n",
              "min     29.000000    0.000000    0.000000  ...    0.000000    0.000000    0.000000\n",
              "25%     47.500000    0.000000    0.000000  ...    0.000000    2.000000    0.000000\n",
              "50%     55.000000    1.000000    1.000000  ...    0.000000    2.000000    1.000000\n",
              "75%     61.000000    1.000000    2.000000  ...    1.000000    3.000000    1.000000\n",
              "max     77.000000    1.000000    3.000000  ...    4.000000    3.000000    1.000000\n",
              "\n",
              "[8 rows x 14 columns]"
            ]
          },
          "metadata": {
            "tags": []
          },
          "execution_count": 12
        }
      ]
    },
    {
      "cell_type": "markdown",
      "metadata": {
        "id": "3C-sXsc62B0q",
        "colab_type": "text"
      },
      "source": [
        "# X и y"
      ]
    },
    {
      "cell_type": "code",
      "metadata": {
        "id": "z9ib0TKB2DbI",
        "colab_type": "code",
        "colab": {}
      },
      "source": [
        "X = data.drop(('target'), axis = 1) # выбрасываем столбец 'target' (имеет болезнь/нет)\n",
        "y = data['target']\n",
        "feature_names = X.columns"
      ],
      "execution_count": 0,
      "outputs": []
    },
    {
      "cell_type": "code",
      "metadata": {
        "id": "PC9auYgv2Jz4",
        "colab_type": "code",
        "outputId": "d54d2c91-e7ab-4769-d373-dd0fedb1dd46",
        "colab": {
          "base_uri": "https://localhost:8080/",
          "height": 34
        }
      },
      "source": [
        "type(feature_names)"
      ],
      "execution_count": 15,
      "outputs": [
        {
          "output_type": "execute_result",
          "data": {
            "text/plain": [
              "pandas.core.indexes.base.Index"
            ]
          },
          "metadata": {
            "tags": []
          },
          "execution_count": 15
        }
      ]
    },
    {
      "cell_type": "code",
      "metadata": {
        "id": "vPEzemzC2LUB",
        "colab_type": "code",
        "outputId": "0b5d4ddc-a40d-416d-e866-d946fc398fa0",
        "colab": {
          "base_uri": "https://localhost:8080/",
          "height": 68
        }
      },
      "source": [
        "feature_names"
      ],
      "execution_count": 16,
      "outputs": [
        {
          "output_type": "execute_result",
          "data": {
            "text/plain": [
              "Index(['age', 'sex', 'cp', 'trestbps', 'chol', 'fbs', 'restecg', 'thalach',\n",
              "       'exang', 'oldpeak', 'slope', 'ca', 'thal'],\n",
              "      dtype='object')"
            ]
          },
          "metadata": {
            "tags": []
          },
          "execution_count": 16
        }
      ]
    },
    {
      "cell_type": "code",
      "metadata": {
        "id": "lbgzBlbz2NXj",
        "colab_type": "code",
        "outputId": "3da5191d-b5c2-45f5-9101-885f169cd875",
        "colab": {
          "base_uri": "https://localhost:8080/",
          "height": 34
        }
      },
      "source": [
        "X.shape"
      ],
      "execution_count": 17,
      "outputs": [
        {
          "output_type": "execute_result",
          "data": {
            "text/plain": [
              "(303, 13)"
            ]
          },
          "metadata": {
            "tags": []
          },
          "execution_count": 17
        }
      ]
    },
    {
      "cell_type": "code",
      "metadata": {
        "id": "V8CmTRir2N9o",
        "colab_type": "code",
        "outputId": "924ad1c2-a915-472d-f479-6a09d8513077",
        "colab": {
          "base_uri": "https://localhost:8080/",
          "height": 34
        }
      },
      "source": [
        "y.shape"
      ],
      "execution_count": 18,
      "outputs": [
        {
          "output_type": "execute_result",
          "data": {
            "text/plain": [
              "(303,)"
            ]
          },
          "metadata": {
            "tags": []
          },
          "execution_count": 18
        }
      ]
    },
    {
      "cell_type": "code",
      "metadata": {
        "id": "HwDNmx1z2PtC",
        "colab_type": "code",
        "outputId": "e6ba3c51-76e2-43a4-e54b-6e1f4bf9177d",
        "colab": {
          "base_uri": "https://localhost:8080/",
          "height": 34
        }
      },
      "source": [
        "# Разобьем данные на тренировочную и тестовую части\n",
        "from sklearn.model_selection import train_test_split\n",
        "X_train, X_test, y_train, y_test = train_test_split(X, y, test_size = 0.3, random_state = 42)\n",
        "\n",
        "N_train, _ = X_train.shape \n",
        "N_test,  _ = X_test.shape \n",
        "\n",
        "print(N_train, N_test)"
      ],
      "execution_count": 19,
      "outputs": [
        {
          "output_type": "stream",
          "text": [
            "212 91\n"
          ],
          "name": "stdout"
        }
      ]
    },
    {
      "cell_type": "code",
      "metadata": {
        "id": "5P_kUQHb2Yyg",
        "colab_type": "code",
        "outputId": "6d4eba66-330d-4d60-dfc4-13d2b4957f07",
        "colab": {
          "base_uri": "https://localhost:8080/",
          "height": 34
        }
      },
      "source": [
        "X_train.shape"
      ],
      "execution_count": 0,
      "outputs": [
        {
          "output_type": "execute_result",
          "data": {
            "text/plain": [
              "(212, 13)"
            ]
          },
          "metadata": {
            "tags": []
          },
          "execution_count": 27
        }
      ]
    },
    {
      "cell_type": "code",
      "metadata": {
        "id": "uis_--dt2aAh",
        "colab_type": "code",
        "outputId": "7cb726f7-96f2-4c3e-f3d0-4e2cdae40af3",
        "colab": {
          "base_uri": "https://localhost:8080/",
          "height": 34
        }
      },
      "source": [
        "X_test.shape"
      ],
      "execution_count": 0,
      "outputs": [
        {
          "output_type": "execute_result",
          "data": {
            "text/plain": [
              "(91, 13)"
            ]
          },
          "metadata": {
            "tags": []
          },
          "execution_count": 28
        }
      ]
    },
    {
      "cell_type": "markdown",
      "metadata": {
        "id": "_IXb-bY32boB",
        "colab_type": "text"
      },
      "source": [
        "# kNN"
      ]
    },
    {
      "cell_type": "code",
      "metadata": {
        "id": "HIdomxV02hRp",
        "colab_type": "code",
        "outputId": "9ebcd77e-9e10-46bf-f2d8-e27e64223656",
        "colab": {
          "base_uri": "https://localhost:8080/",
          "height": 68
        }
      },
      "source": [
        "from sklearn.neighbors import KNeighborsClassifier\n",
        "knn = KNeighborsClassifier(n_neighbors = 10)\n",
        "knn.fit(X_train, y_train)"
      ],
      "execution_count": 32,
      "outputs": [
        {
          "output_type": "execute_result",
          "data": {
            "text/plain": [
              "KNeighborsClassifier(algorithm='auto', leaf_size=30, metric='minkowski',\n",
              "                     metric_params=None, n_jobs=None, n_neighbors=10, p=2,\n",
              "                     weights='uniform')"
            ]
          },
          "metadata": {
            "tags": []
          },
          "execution_count": 32
        }
      ]
    },
    {
      "cell_type": "code",
      "metadata": {
        "id": "gtqoJr2E2jg5",
        "colab_type": "code",
        "outputId": "8e99f5e5-6570-4440-cc0e-c79c68693502",
        "colab": {
          "base_uri": "https://localhost:8080/",
          "height": 34
        }
      },
      "source": [
        "y_train_predict = knn.predict(X_train)\n",
        "y_test_predict = knn.predict(X_test)\n",
        "\n",
        "err_train = np.mean(y_train != y_train_predict)\n",
        "err_test  = np.mean(y_test  != y_test_predict)\n",
        "\n",
        "print(err_train, err_test)"
      ],
      "execution_count": 33,
      "outputs": [
        {
          "output_type": "stream",
          "text": [
            "0.30660377358490565 0.3076923076923077\n"
          ],
          "name": "stdout"
        }
      ]
    },
    {
      "cell_type": "markdown",
      "metadata": {
        "id": "YRnDd-4j22op",
        "colab_type": "text"
      },
      "source": [
        "# AdaBoost"
      ]
    },
    {
      "cell_type": "code",
      "metadata": {
        "id": "o5JnZcxR26BB",
        "colab_type": "code",
        "outputId": "d031fb2e-5f83-4042-d5e6-eee44fdc8952",
        "colab": {
          "base_uri": "https://localhost:8080/",
          "height": 34
        }
      },
      "source": [
        "from sklearn import ensemble\n",
        "ada = ensemble.AdaBoostClassifier(n_estimators = 1000)\n",
        "ada.fit(X_train, y_train)\n",
        "\n",
        "err_train = np.mean(y_train != ada.predict(X_train))\n",
        "err_test = np.mean(y_test != ada.predict(X_test))\n",
        "\n",
        "print(err_train, err_test)"
      ],
      "execution_count": 0,
      "outputs": [
        {
          "output_type": "stream",
          "text": [
            "0.0 0.21978021978021978\n"
          ],
          "name": "stdout"
        }
      ]
    },
    {
      "cell_type": "markdown",
      "metadata": {
        "id": "p2CX5uuJ3fvC",
        "colab_type": "text"
      },
      "source": [
        "# Часть 2"
      ]
    },
    {
      "cell_type": "markdown",
      "metadata": {
        "id": "70lsEpY_q_JR",
        "colab_type": "text"
      },
      "source": [
        "### Подбор параметров для kNN"
      ]
    },
    {
      "cell_type": "code",
      "metadata": {
        "id": "0l5WX5vRrBOh",
        "colab_type": "code",
        "colab": {
          "base_uri": "https://localhost:8080/",
          "height": 105
        },
        "outputId": "1bf3d3ce-6a22-49a0-a01e-aedee5600d27"
      },
      "source": [
        "from sklearn.neighbors import KNeighborsClassifier\n",
        "from sklearn.model_selection import GridSearchCV\n",
        "nnb = [1, 2, 3, 4, 5, 6, 7, 8, 10, 15]\n",
        "knn = KNeighborsClassifier()\n",
        "grid = GridSearchCV(knn, param_grid = {'n_neighbors': nnb}, cv=10)\n",
        "grid.fit(X_train, y_train)\n",
        "\n",
        "best_cv_err = 1 - grid.best_score_\n",
        "best_n_neighbors = grid.best_estimator_.n_neighbors\n",
        "print(\"Меньшая ошибка \" + str(best_cv_err))\n",
        "print(\"Число соседей \" + str(best_n_neighbors))"
      ],
      "execution_count": 51,
      "outputs": [
        {
          "output_type": "stream",
          "text": [
            "Меньшая ошибка 0.33490566037735847\n",
            "Число соседей 5\n"
          ],
          "name": "stdout"
        },
        {
          "output_type": "stream",
          "text": [
            "/usr/local/lib/python3.6/dist-packages/sklearn/model_selection/_search.py:814: DeprecationWarning: The default of the `iid` parameter will change from True to False in version 0.22 and will be removed in 0.24. This will change numeric results when test-set sizes are unequal.\n",
            "  DeprecationWarning)\n"
          ],
          "name": "stderr"
        }
      ]
    },
    {
      "cell_type": "code",
      "metadata": {
        "id": "dUj_ogPZrcsB",
        "colab_type": "code",
        "colab": {
          "base_uri": "https://localhost:8080/",
          "height": 34
        },
        "outputId": "9977f4ca-6984-4f30-bb7c-afc05c194406"
      },
      "source": [
        "knn = KNeighborsClassifier(n_neighbors = 7)\n",
        "knn.fit(X_train, y_train)\n",
        "y_train_predict = knn.predict(X_train)\n",
        "y_test_predict = knn.predict(X_test)\n",
        "\n",
        "err_train = np.mean(y_train != y_train_predict)\n",
        "err_test  = np.mean(y_test  != y_test_predict)\n",
        "\n",
        "print(err_train, err_test)\n",
        "# Несмотря на лучшие результаты параметра, равным 7, по тестовой выборке, на тренировочной результаты хуже. \n",
        "# Будем предполагать, что оптимальное значение = 5."
      ],
      "execution_count": 54,
      "outputs": [
        {
          "output_type": "stream",
          "text": [
            "0.25471698113207547 0.32967032967032966\n"
          ],
          "name": "stdout"
        }
      ]
    },
    {
      "cell_type": "code",
      "metadata": {
        "id": "ZgihHOPEr_7M",
        "colab_type": "code",
        "colab": {
          "base_uri": "https://localhost:8080/",
          "height": 282
        },
        "outputId": "14bdd2d2-76bc-43ce-b12b-91a25ebd2751"
      },
      "source": [
        "ran_k = range(1, 12)\n",
        "err_train_mas = []\n",
        "err_test_mas = []\n",
        "for k in ran_k:\n",
        "    mod_k = KNeighborsClassifier(n_neighbors = k)\n",
        "    mod_k.fit(X_train, y_train)\n",
        "    err_train_mas.append(np.mean(mod_k.predict(X_train) != y_train))\n",
        "    err_test_mas.append(np.mean(mod_k.predict(X_test) != y_test))\n",
        "plt.plot(ran_k, err_train_mas, 'r-o', label = 'Train error')\n",
        "plt.plot(ran_k, err_test_mas,  'b-o', label = 'Test error')    \n",
        "plt.legend(loc = 2)"
      ],
      "execution_count": 35,
      "outputs": [
        {
          "output_type": "execute_result",
          "data": {
            "text/plain": [
              "<matplotlib.legend.Legend at 0x7f19251e3ba8>"
            ]
          },
          "metadata": {
            "tags": []
          },
          "execution_count": 35
        },
        {
          "output_type": "display_data",
          "data": {
            "image/png": "[encoded data removed]",
            "text/plain": [
              "<Figure size 432x288 with 1 Axes>"
            ]
          },
          "metadata": {
            "tags": []
          }
        }
      ]
    },
    {
      "cell_type": "markdown",
      "metadata": {
        "id": "YWI6nDGrtaJM",
        "colab_type": "text"
      },
      "source": [
        "На графике видно, что k=7 имеет меньшую ошибку на тестовой выборке, но большую на тренировочной. Пусть k=5 - оптимально."
      ]
    },
    {
      "cell_type": "markdown",
      "metadata": {
        "id": "8O30YzKypNqj",
        "colab_type": "text"
      },
      "source": [
        "### PCA"
      ]
    },
    {
      "cell_type": "code",
      "metadata": {
        "id": "G9eHonqCpPS7",
        "colab_type": "code",
        "colab": {
          "base_uri": "https://localhost:8080/",
          "height": 1000
        },
        "outputId": "94e59c24-9c7c-4235-f6b9-fce31b0fcf4e"
      },
      "source": [
        "from sklearn.decomposition import PCA\n",
        "pca = PCA(n_components = 2)\n",
        "X_PCA = pca.fit_transform(X)\n",
        "X_PCA"
      ],
      "execution_count": 57,
      "outputs": [
        {
          "output_type": "execute_result",
          "data": {
            "text/plain": [
              "array([[-1.22673448e+01,  2.87383781e+00],\n",
              "       [ 2.69013712e+00, -3.98713736e+01],\n",
              "       [-4.29502141e+01, -2.36368199e+01],\n",
              "       [-1.09447564e+01, -2.84380358e+01],\n",
              "       [ 1.06979053e+02, -1.58744678e+01],\n",
              "       [-5.36472038e+01,  4.00392377e+00],\n",
              "       [ 4.80821551e+01, -3.03896086e+00],\n",
              "       [ 1.55660590e+01, -2.62745637e+01],\n",
              "       [-4.54388962e+01, -7.42977739e+00],\n",
              "       [-7.73163161e+01, -1.99100759e+01],\n",
              "       [-6.94323738e+00, -9.17536374e+00],\n",
              "       [ 2.84259379e+01,  8.47126467e+00],\n",
              "       [ 1.92477377e+01, -2.24212575e+01],\n",
              "       [-3.58055558e+01,  5.70343964e+00],\n",
              "       [ 3.75886896e+01, -1.02579437e+01],\n",
              "       [-2.79998518e+01, -9.64570379e+00],\n",
              "       [ 9.29750393e+01, -2.42584272e+01],\n",
              "       [-1.86307973e+01,  3.92597411e+01],\n",
              "       [ 1.00245407e+00, -2.10404091e+01],\n",
              "       [-6.28419048e+00,  2.34469473e+00],\n",
              "       [-1.19811457e+01, -9.66308502e+00],\n",
              "       [-1.39453649e+01, -3.05172542e+01],\n",
              "       [-2.05255102e+01, -2.87200024e+01],\n",
              "       [-2.03216541e+00,  1.55254511e+01],\n",
              "       [-4.75528071e+01, -2.85622656e+01],\n",
              "       [ 5.75441203e+01, -7.18762436e+00],\n",
              "       [-3.31978406e+01, -3.78773342e+00],\n",
              "       [-7.20962852e+01,  2.45271249e+01],\n",
              "       [ 1.71167708e+02, -7.71869434e+00],\n",
              "       [-4.93191556e+01, -1.76485033e+00],\n",
              "       [-5.01007485e+01, -2.22229739e+01],\n",
              "       [-6.91929442e+01,  1.14888587e+01],\n",
              "       [-2.79824102e+01, -3.90409838e+01],\n",
              "       [ 2.63348351e+01, -3.58093199e+00],\n",
              "       [-3.34679777e+01,  2.34124147e+01],\n",
              "       [-6.90416954e+01, -9.21356282e+00],\n",
              "       [ 5.76159309e+01, -2.07758786e+01],\n",
              "       [-1.34903293e+01, -1.29013455e+01],\n",
              "       [ 2.42327315e+01,  5.49629632e+00],\n",
              "       [ 1.15272998e+02,  1.31729856e+00],\n",
              "       [ 6.19386342e+01,  6.51796361e+00],\n",
              "       [-1.81594733e+00, -3.09857643e+01],\n",
              "       [-3.98582315e+01, -2.17228532e+00],\n",
              "       [ 1.76202166e+01,  5.72741745e+00],\n",
              "       [ 7.41402129e+01, -3.50445822e+01],\n",
              "       [ 7.77674937e+01, -2.50432446e+01],\n",
              "       [-1.14803471e+01, -3.05087153e+01],\n",
              "       [ 1.06766335e+01, -7.14459399e+00],\n",
              "       [-3.01815530e+01,  3.37656200e+01],\n",
              "       [-1.20664017e+01, -9.48916506e+00],\n",
              "       [ 9.50967652e+00, -3.78404916e-01],\n",
              "       [ 5.55227054e+01, -1.49713282e+00],\n",
              "       [-1.49814291e+01,  5.10910088e+00],\n",
              "       [-1.06782254e+02, -2.70995374e+01],\n",
              "       [ 6.05902948e+00, -2.00797354e+01],\n",
              "       [-4.52195974e+01, -7.47967373e+00],\n",
              "       [-2.51948565e+01, -3.72340745e+01],\n",
              "       [ 1.22870268e+01, -3.82682680e+01],\n",
              "       [-6.57761067e+01, -2.77342770e+01],\n",
              "       [ 5.64900647e+01, -1.01515531e+01],\n",
              "       [ 1.84703454e+01,  1.95824848e+01],\n",
              "       [ 6.14251568e+01, -9.97976370e+00],\n",
              "       [-6.11924097e+01, -4.01598131e+01],\n",
              "       [-4.34222710e+01,  1.59715224e+01],\n",
              "       [-3.47706781e+01, -1.28336095e+01],\n",
              "       [-6.38389942e+01, -3.32520799e+01],\n",
              "       [-2.58092998e+01,  3.06100628e+00],\n",
              "       [-1.28738102e+01, -2.64263198e+01],\n",
              "       [-2.73293392e+01, -2.25103104e+01],\n",
              "       [-3.73524443e+01, -1.17499709e+01],\n",
              "       [ 1.11623689e+01,  1.05760048e+00],\n",
              "       [-2.11845499e+01, -8.42731177e+00],\n",
              "       [-4.36481435e+01, -5.51630465e+01],\n",
              "       [ 1.47048217e+01, -3.55689655e+01],\n",
              "       [-3.42225937e+01, -1.74622766e+01],\n",
              "       [ 3.83167514e+00, -1.07012108e+01],\n",
              "       [-1.83098204e+00, -1.72502209e+01],\n",
              "       [-2.47428259e+01, -1.18500592e+01],\n",
              "       [-4.17066458e+01, -3.36111470e+01],\n",
              "       [-7.40917802e+00, -6.25033964e+00],\n",
              "       [ 2.04540880e+00, -3.32773445e+01],\n",
              "       [ 6.09210678e+01, -2.32058497e+01],\n",
              "       [ 7.03299724e+01, -1.35989064e+01],\n",
              "       [ 5.22983771e+01, -2.70536413e+01],\n",
              "       [ 1.70065236e+01,  2.13218186e+01],\n",
              "       [ 3.16749447e+02, -1.57198272e+01],\n",
              "       [ 3.05538405e+01, -8.67999797e-01],\n",
              "       [-5.10054999e+01, -9.98785187e+00],\n",
              "       [-3.33081544e+01, -9.85793365e+00],\n",
              "       [ 5.76351497e-01,  2.43665814e+01],\n",
              "       [ 7.91544528e+00, -2.69240089e+01],\n",
              "       [-3.92019129e+01, -1.66665821e+01],\n",
              "       [-2.31512130e+01, -1.82374297e+01],\n",
              "       [ 4.15904451e+01, -9.99602712e+00],\n",
              "       [-8.73164287e+01,  9.28658061e+00],\n",
              "       [-1.94998842e+01,  3.89746683e+01],\n",
              "       [ 1.48096221e+02, -7.78636031e+00],\n",
              "       [-1.44333997e+01, -2.80021354e-02],\n",
              "       [ 6.79834667e+01, -1.56506133e+01],\n",
              "       [-5.66463322e-01, -2.32497020e+01],\n",
              "       [-2.17890621e+00, -2.82410256e+01],\n",
              "       [ 2.61147551e+01,  9.77685047e+00],\n",
              "       [-5.06406558e+01, -2.52622187e+01],\n",
              "       [-7.62277163e+00, -4.66899999e+01],\n",
              "       [-5.05675871e+01, -1.31889197e+01],\n",
              "       [-3.49561481e+01,  3.58075821e+01],\n",
              "       [-1.01792704e+01,  2.40340759e+01],\n",
              "       [-1.03261196e+01, -3.14643025e+00],\n",
              "       [-3.07718098e+00, -1.40469425e+01],\n",
              "       [ 6.45117302e+00, -1.23537176e+01],\n",
              "       [ 8.12324477e+01,  9.76701581e-01],\n",
              "       [-1.19226291e+02, -1.81289862e+01],\n",
              "       [ 6.75045538e+01,  1.75519177e+01],\n",
              "       [-3.67582158e+01, -1.47459364e+01],\n",
              "       [ 1.56092274e+01, -5.62618095e+00],\n",
              "       [-3.25955878e+01, -2.37018244e+01],\n",
              "       [-3.29426698e+01, -1.99128716e+01],\n",
              "       [-5.37420903e+01, -1.19588611e+01],\n",
              "       [-4.39460245e+01, -2.53474586e+01],\n",
              "       [-3.30055147e+00, -3.10380777e+00],\n",
              "       [ 5.71364038e+01,  2.75425777e+01],\n",
              "       [ 2.49346693e+01, -3.06121389e+01],\n",
              "       [ 2.00658433e+01, -2.67787170e+01],\n",
              "       [ 1.94265927e+01, -1.99277142e+01],\n",
              "       [-4.97890334e+01, -3.45204118e+01],\n",
              "       [-3.79588300e+01, -4.58319341e+01],\n",
              "       [-4.33601665e+01,  3.91500695e+00],\n",
              "       [ 3.19771185e+01, -1.80629396e+01],\n",
              "       [-5.01961305e+01, -1.79483810e+01],\n",
              "       [ 2.31253663e+01,  2.99073603e+01],\n",
              "       [-4.39409955e+01, -9.32987328e+00],\n",
              "       [ 2.44956667e+01, -1.33095733e+01],\n",
              "       [ 4.75046019e+01, -1.65140532e+01],\n",
              "       [-1.28277115e+01, -7.77413385e+00],\n",
              "       [ 5.87236797e+01, -1.72650379e+01],\n",
              "       [ 2.23032866e+01, -1.46610375e+01],\n",
              "       [-6.80713170e+01,  5.35196315e+01],\n",
              "       [-3.79925537e+01,  1.11499559e+01],\n",
              "       [-4.59283877e+01,  2.22402367e+01],\n",
              "       [ 1.72403581e+01,  4.46927047e+01],\n",
              "       [ 4.78991398e+01, -9.98980124e+00],\n",
              "       [ 5.51539727e+01, -3.55284098e+01],\n",
              "       [-3.84085771e+01, -2.55954822e+01],\n",
              "       [-2.38811176e+01,  7.56699767e+00],\n",
              "       [-4.76724389e+01,  3.86264546e+01],\n",
              "       [ 5.61381220e-01,  1.18633697e+01],\n",
              "       [-5.31060481e+00, -2.61173133e+00],\n",
              "       [-5.31670653e+00, -1.78564510e+01],\n",
              "       [-2.13351983e+01, -2.16622139e+01],\n",
              "       [-6.67088816e+01, -1.52834204e+00],\n",
              "       [-1.63328111e+01,  1.68172492e+01],\n",
              "       [-9.71697018e+01,  2.69818025e+01],\n",
              "       [-1.70634064e+01,  8.45677177e-01],\n",
              "       [ 3.27990023e+01,  6.67997033e-01],\n",
              "       [-2.65372631e+01, -3.96616859e+00],\n",
              "       [-4.89650336e+01,  1.96684831e+01],\n",
              "       [ 6.13292063e+00, -3.03739217e+01],\n",
              "       [-5.55642386e+01, -2.73072199e+01],\n",
              "       [-2.63399402e+01,  6.02689407e+00],\n",
              "       [-2.53276285e+01, -1.24612830e+01],\n",
              "       [-6.88718174e+00, -1.97145339e+01],\n",
              "       [ 9.54711027e+01, -1.77009114e+01],\n",
              "       [-9.04133799e+01, -3.35593558e+01],\n",
              "       [-7.16396597e+01, -2.37643886e+01],\n",
              "       [-7.16396597e+01, -2.37643886e+01],\n",
              "       [ 4.18197447e+01,  4.52249925e+01],\n",
              "       [-1.71261639e+01,  2.16710711e+01],\n",
              "       [ 2.23256592e+01, -8.19666164e+00],\n",
              "       [ 8.00705846e+00,  3.86621159e+00],\n",
              "       [-4.28696156e+01, -3.70555560e+00],\n",
              "       [ 9.75797442e+00,  7.40139126e+00],\n",
              "       [-1.86474671e+01, -2.09987262e+01],\n",
              "       [ 3.71761566e+01, -1.13870966e+01],\n",
              "       [-2.22273002e+01, -2.16543675e+01],\n",
              "       [-3.99040777e+01,  1.89454898e+01],\n",
              "       [-8.04401561e+01,  3.15451480e+01],\n",
              "       [-1.67783444e+01, -1.02606413e+01],\n",
              "       [ 8.92745356e+01, -7.31054466e+00],\n",
              "       [-6.99088445e+01,  2.70813929e+01],\n",
              "       [ 3.09339720e+01,  3.86115665e+01],\n",
              "       [ 1.06703009e+02,  1.53538497e+01],\n",
              "       [-1.96587903e+01,  3.91295966e+01],\n",
              "       [ 8.36154725e+01, -1.95216645e+01],\n",
              "       [-1.71341735e+01, -1.60418481e+01],\n",
              "       [-2.39282344e+00,  2.23656761e+01],\n",
              "       [ 4.22833359e+01, -8.06448136e+00],\n",
              "       [ 6.91167603e+00,  6.26656360e+00],\n",
              "       [ 1.96243332e+01,  3.85256546e+01],\n",
              "       [-1.31125991e+01, -1.27318441e+01],\n",
              "       [-7.57375885e+01, -1.14199614e+01],\n",
              "       [ 5.84701625e+01,  5.56709620e+00],\n",
              "       [-3.00890831e+01,  1.91629567e+01],\n",
              "       [-5.84468565e+01,  3.56937128e+01],\n",
              "       [ 3.65887410e+01,  9.26162026e+00],\n",
              "       [-6.05635842e+01, -2.12850782e+00],\n",
              "       [ 8.16660054e+01,  1.27753312e+01],\n",
              "       [-1.46715956e+01,  3.29250462e+00],\n",
              "       [ 7.80766434e+00, -1.15712761e+01],\n",
              "       [ 2.08206903e+01,  4.93221000e+01],\n",
              "       [ 1.06289695e+00, -8.49799938e+00],\n",
              "       [-5.08073967e+01, -2.99181026e+01],\n",
              "       [ 1.16895915e+01,  8.61870113e+00],\n",
              "       [ 2.49935343e+01,  3.98757284e+01],\n",
              "       [ 3.05192299e+01,  6.62398075e+00],\n",
              "       [-8.04036376e+01,  1.06169304e+01],\n",
              "       [ 8.36996320e+00, -1.20747257e+01],\n",
              "       [-8.03618926e+00,  6.24254701e+00],\n",
              "       [ 1.27639122e+01, -4.42289158e+00],\n",
              "       [-5.88348209e+01,  9.38176887e+00],\n",
              "       [-6.86382666e+01, -9.01573342e+00],\n",
              "       [-1.73026958e+01,  7.65098966e-02],\n",
              "       [ 1.34940887e+01,  9.23332642e+00],\n",
              "       [-2.83947076e+01,  5.75332197e+00],\n",
              "       [ 6.15465542e+01,  4.99611728e+00],\n",
              "       [ 2.52399874e+00,  5.10237950e+00],\n",
              "       [ 9.42277808e+01,  9.51501402e+00],\n",
              "       [ 1.73148859e+01,  5.23379788e+01],\n",
              "       [ 8.39735990e+01,  1.70727173e+01],\n",
              "       [ 8.47295049e+00,  2.43185301e+01],\n",
              "       [ 9.38942689e+00, -1.85442370e+00],\n",
              "       [ 1.61617639e+02, -3.80387787e+00],\n",
              "       [-2.84925228e+01,  3.94263668e+01],\n",
              "       [ 3.62078237e+01, -2.19066958e+01],\n",
              "       [ 4.51063806e+01,  2.29522013e+01],\n",
              "       [-8.11518539e+00,  2.09941418e+01],\n",
              "       [-7.06859638e+01,  2.97790223e+01],\n",
              "       [ 3.47613868e+01,  4.51052191e+01],\n",
              "       [-4.93417477e+01,  1.54267378e+01],\n",
              "       [ 4.35905728e+01, -5.16611667e+00],\n",
              "       [ 6.28143128e+01,  1.80743197e+01],\n",
              "       [-4.69587349e+00, -6.07939007e+00],\n",
              "       [ 4.45395018e+01,  2.82154176e+01],\n",
              "       [ 4.40654268e+01,  6.79430599e+00],\n",
              "       [-3.78967813e-02,  5.30320698e+01],\n",
              "       [ 7.64336112e+01,  4.09893565e+01],\n",
              "       [ 5.27282629e+01, -2.35735673e+01],\n",
              "       [ 5.33051683e+01, -2.19352932e+01],\n",
              "       [ 4.71205929e+01, -1.88686496e+01],\n",
              "       [ 5.81142852e+01, -9.74168891e+00],\n",
              "       [ 3.45882633e+01, -1.10269523e+01],\n",
              "       [ 2.49372705e+01,  4.21742263e+01],\n",
              "       [ 4.97860630e+00,  1.16787225e+01],\n",
              "       [-3.30476202e+01,  2.10949255e+01],\n",
              "       [ 2.92112525e+01,  6.23253185e+01],\n",
              "       [-6.17294730e+01,  4.52151416e+01],\n",
              "       [ 2.69482051e+01, -1.84707904e+01],\n",
              "       [ 1.62601914e+02, -2.91047352e+00],\n",
              "       [ 1.76358515e+00,  3.40502950e+01],\n",
              "       [ 3.91892127e+01, -3.88537256e+01],\n",
              "       [ 8.72772333e+00,  6.98051819e+00],\n",
              "       [ 5.21134479e+01,  2.63698957e+01],\n",
              "       [ 3.59494997e-01,  4.48985394e+00],\n",
              "       [ 4.85748918e+01,  4.38273118e+01],\n",
              "       [ 5.18117950e+01,  2.21107783e+01],\n",
              "       [ 2.83925296e+01,  2.72949756e+01],\n",
              "       [ 6.27624509e+01,  7.66849769e-01],\n",
              "       [ 1.28341626e+01,  1.93091097e+01],\n",
              "       [-4.55815556e+01,  2.45095216e+01],\n",
              "       [-1.11447079e+00, -8.92995396e-01],\n",
              "       [-1.66719275e+01, -3.54797126e+01],\n",
              "       [-1.56702530e+01, -7.67974909e+00],\n",
              "       [-1.73372333e+01, -1.22830106e+01],\n",
              "       [ 3.56088032e+01,  5.16148213e+01],\n",
              "       [ 2.17707152e+01, -2.01868964e+01],\n",
              "       [-4.09218463e+01,  3.91729465e+01],\n",
              "       [-3.45413851e+01,  1.79890833e+01],\n",
              "       [ 8.31487334e+01,  3.55243895e+01],\n",
              "       [-9.77597417e+01,  2.26018372e+01],\n",
              "       [ 3.94403295e+01,  3.11146680e+01],\n",
              "       [ 3.69977907e+01,  4.50358095e+01],\n",
              "       [ 1.88978181e+00,  2.72833600e+00],\n",
              "       [-1.18321429e+01,  6.25017709e+00],\n",
              "       [-8.72338097e+00,  7.81323620e+01],\n",
              "       [-1.36485616e+01, -8.60017159e+00],\n",
              "       [ 2.75953485e+01,  2.68033627e+01],\n",
              "       [-3.47384347e+01, -1.83706974e+01],\n",
              "       [-2.70504587e+01,  4.63670420e+01],\n",
              "       [ 1.45091664e+01,  7.82337627e+00],\n",
              "       [ 7.29306386e+01, -2.61133576e+00],\n",
              "       [-7.93555887e+01,  2.75843094e+01],\n",
              "       [ 6.85028170e+01,  2.09746145e+01],\n",
              "       [-4.24974303e+01, -6.18715836e+00],\n",
              "       [-2.81812083e+01,  1.61083297e+01],\n",
              "       [-2.30484284e+01, -3.07093537e+01],\n",
              "       [-3.84370655e+01,  1.42537105e+01],\n",
              "       [ 6.49008923e+01,  2.71076488e+01],\n",
              "       [-4.19802499e+01, -1.01863752e+01],\n",
              "       [-1.31745404e+01, -1.09710037e+01],\n",
              "       [ 8.76914867e+01,  3.06726803e+00],\n",
              "       [-4.11832177e+01,  1.97802575e+01],\n",
              "       [-4.22225275e+01, -7.35629223e+00],\n",
              "       [ 7.09768185e+01,  6.96831601e+00],\n",
              "       [-1.92194152e+01,  8.68545637e+00],\n",
              "       [-3.27338125e+01,  4.71710647e+00],\n",
              "       [-7.80338286e+01,  3.97586774e+00],\n",
              "       [-5.83590987e+01,  9.19123625e+00],\n",
              "       [-4.90902148e+01,  1.50673932e+01],\n",
              "       [-6.79628322e+01,  6.38801449e+01],\n",
              "       [-4.55412086e+00,  2.74901690e+01],\n",
              "       [ 1.64280078e+01,  1.29217160e+01],\n",
              "       [-5.19638115e+01,  1.33237984e+01],\n",
              "       [-1.14755981e+02,  3.64351842e+01],\n",
              "       [-1.03961420e+01, -2.33024008e+01]])"
            ]
          },
          "metadata": {
            "tags": []
          },
          "execution_count": 57
        }
      ]
    },
    {
      "cell_type": "code",
      "metadata": {
        "id": "eCOxMoCyptoQ",
        "colab_type": "code",
        "colab": {
          "base_uri": "https://localhost:8080/",
          "height": 312
        },
        "outputId": "578b5e18-33b6-4b0c-881e-f2d0f18d22d0"
      },
      "source": [
        "plt.scatter(X_PCA[:,0], X_PCA[:,1], alpha = .2)\n",
        "\n",
        "plt.xlabel('fisrt')\n",
        "plt.ylabel('second')\n",
        "plt.title('components')"
      ],
      "execution_count": 58,
      "outputs": [
        {
          "output_type": "execute_result",
          "data": {
            "text/plain": [
              "Text(0.5, 1.0, 'components')"
            ]
          },
          "metadata": {
            "tags": []
          },
          "execution_count": 58
        },
        {
          "output_type": "display_data",
          "data": {
            "image/png": "[encoded data removed]",
            "text/plain": [
              "<Figure size 432x288 with 1 Axes>"
            ]
          },
          "metadata": {
            "tags": []
          }
        }
      ]
    },
    {
      "cell_type": "code",
      "metadata": {
        "id": "4I8jHDIHuz3J",
        "colab_type": "code",
        "colab": {
          "base_uri": "https://localhost:8080/",
          "height": 295
        },
        "outputId": "806bcbfd-070e-42a1-a706-882b780afc4b"
      },
      "source": [
        "components_arr = np.arange(1, 13) #X.shape(..,13)\n",
        "test_err = []\n",
        "train_err = []\n",
        "\n",
        "for components in components_arr:\n",
        "    pca = PCA(n_components=components)\n",
        "    X_pca = pca.fit_transform(X)\n",
        "    X_train, X_test, y_train, y_test = train_test_split(X_pca, y, test_size=0.3, random_state=42)\n",
        "    knn = KNeighborsClassifier(n_neighbors=best_n_neighbors)\n",
        "    knn.fit(X_train, y_train)\n",
        "    \n",
        "    train_err.append(np.mean(y_train != knn.predict(X_train)))\n",
        "    test_err.append(np.mean(y_test  != knn.predict(X_test)))\n",
        "    \n",
        "\n",
        "plt.figure()\n",
        "plt.plot(components_arr, train_err, 'b-o', label = 'train')\n",
        "plt.plot(components_arr, test_err, 'r-o', label = 'test')\n",
        "plt.xlim([np.min(components_arr), np.max(components_arr)])\n",
        "plt.title('PCA')\n",
        "plt.xlabel('components')\n",
        "plt.ylabel('error')\n",
        "plt.legend()\n",
        "plt.show()"
      ],
      "execution_count": 59,
      "outputs": [
        {
          "output_type": "display_data",
          "data": {
            "image/png": "[encoded data removed]",
            "text/plain": [
              "<Figure size 432x288 with 1 Axes>"
            ]
          },
          "metadata": {
            "tags": []
          }
        }
      ]
    },
    {
      "cell_type": "code",
      "metadata": {
        "id": "E6ZHp8_FvTTc",
        "colab_type": "code",
        "colab": {
          "base_uri": "https://localhost:8080/",
          "height": 34
        },
        "outputId": "2114f4b7-14c1-400e-ac1a-325d96fa93e9"
      },
      "source": [
        "np.min(test_err)"
      ],
      "execution_count": 60,
      "outputs": [
        {
          "output_type": "execute_result",
          "data": {
            "text/plain": [
              "0.3076923076923077"
            ]
          },
          "metadata": {
            "tags": []
          },
          "execution_count": 60
        }
      ]
    },
    {
      "cell_type": "markdown",
      "metadata": {
        "id": "zdrdjiGMvYo7",
        "colab_type": "text"
      },
      "source": [
        "PCA позволил увеличить точность на 3%"
      ]
    },
    {
      "cell_type": "code",
      "metadata": {
        "id": "kGKkGMpNvgTB",
        "colab_type": "code",
        "colab": {
          "base_uri": "https://localhost:8080/",
          "height": 136
        },
        "outputId": "529f060a-8a99-4690-afaf-d26fa3160789"
      },
      "source": [
        "for i in range(7):\n",
        "    print(\"Count components: \" , i + 1, \"Error for test sample: \" , test_err[i])"
      ],
      "execution_count": 61,
      "outputs": [
        {
          "output_type": "stream",
          "text": [
            "Count components:  1 Error for test sample:  0.46153846153846156\n",
            "Count components:  2 Error for test sample:  0.3076923076923077\n",
            "Count components:  3 Error for test sample:  0.4065934065934066\n",
            "Count components:  4 Error for test sample:  0.34065934065934067\n",
            "Count components:  5 Error for test sample:  0.34065934065934067\n",
            "Count components:  6 Error for test sample:  0.34065934065934067\n",
            "Count components:  7 Error for test sample:  0.34065934065934067\n"
          ],
          "name": "stdout"
        }
      ]
    },
    {
      "cell_type": "markdown",
      "metadata": {
        "id": "djgWW20Lv2Ex",
        "colab_type": "text"
      },
      "source": [
        "Попробуем для k=7"
      ]
    },
    {
      "cell_type": "code",
      "metadata": {
        "id": "b7x_I1QTv4Rl",
        "colab_type": "code",
        "colab": {
          "base_uri": "https://localhost:8080/",
          "height": 295
        },
        "outputId": "2b8831d8-64b6-4b90-fefc-88ebf4f4c1fd"
      },
      "source": [
        "components_arr = np.arange(1, 13) #X.shape(..,13)\n",
        "test_err = []\n",
        "train_err = []\n",
        "\n",
        "for components in components_arr:\n",
        "    pca = PCA(n_components=components)\n",
        "    X_pca = pca.fit_transform(X)\n",
        "    X_train, X_test, y_train, y_test = train_test_split(X_pca, y, test_size=0.3, random_state=42)\n",
        "    knn = KNeighborsClassifier(n_neighbors=7)\n",
        "    knn.fit(X_train, y_train)\n",
        "    \n",
        "    train_err.append(np.mean(y_train != knn.predict(X_train)))\n",
        "    test_err.append(np.mean(y_test  != knn.predict(X_test)))\n",
        "    \n",
        "\n",
        "plt.figure()\n",
        "plt.plot(components_arr, train_err, 'b-o', label = 'train')\n",
        "plt.plot(components_arr, test_err, 'r-o', label = 'test')\n",
        "plt.xlim([np.min(components_arr), np.max(components_arr)])\n",
        "plt.title('PCA')\n",
        "plt.xlabel('components')\n",
        "plt.ylabel('error')\n",
        "plt.legend()\n",
        "plt.show()"
      ],
      "execution_count": 66,
      "outputs": [
        {
          "output_type": "display_data",
          "data": {
            "image/png": "[encoded data removed]",
            "text/plain": [
              "<Figure size 432x288 with 1 Axes>"
            ]
          },
          "metadata": {
            "tags": []
          }
        }
      ]
    },
    {
      "cell_type": "code",
      "metadata": {
        "id": "Bz7TkvqMwCGc",
        "colab_type": "code",
        "colab": {
          "base_uri": "https://localhost:8080/",
          "height": 136
        },
        "outputId": "42916fea-17f8-457f-ec9b-c583bd7b1c3b"
      },
      "source": [
        "for i in range(7):\n",
        "    print(\"Count components: \" , i + 1, \"Error for test sample: \" , test_err[i])"
      ],
      "execution_count": 67,
      "outputs": [
        {
          "output_type": "stream",
          "text": [
            "Count components:  1 Error for test sample:  0.4835164835164835\n",
            "Count components:  2 Error for test sample:  0.3076923076923077\n",
            "Count components:  3 Error for test sample:  0.3626373626373626\n",
            "Count components:  4 Error for test sample:  0.32967032967032966\n",
            "Count components:  5 Error for test sample:  0.32967032967032966\n",
            "Count components:  6 Error for test sample:  0.32967032967032966\n",
            "Count components:  7 Error for test sample:  0.32967032967032966\n"
          ],
          "name": "stdout"
        }
      ]
    },
    {
      "cell_type": "markdown",
      "metadata": {
        "id": "qf1pDzKswQom",
        "colab_type": "text"
      },
      "source": [
        "Вывод: метод главных компонент позволил уменьшить ошибку приблизительно на 3% при числе главных компонент равным 2."
      ]
    }
  ]
}